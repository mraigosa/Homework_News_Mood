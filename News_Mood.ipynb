{
 "cells": [
  {
   "cell_type": "code",
   "execution_count": 251,
   "metadata": {
    "collapsed": true
   },
   "outputs": [],
   "source": [
    "#Dependencies\n",
    "import pandas as pd\n",
    "import tweepy\n",
    "import numpy as np\n",
    "from datetime import datetime\n",
    "import matplotlib.pyplot as plt"
   ]
  },
  {
   "cell_type": "code",
   "execution_count": 252,
   "metadata": {
    "collapsed": true
   },
   "outputs": [],
   "source": [
    "# Import and Initialize Sentiment Analyzer\n",
    "from vaderSentiment.vaderSentiment import SentimentIntensityAnalyzer\n",
    "analyzer = SentimentIntensityAnalyzer()"
   ]
  },
  {
   "cell_type": "code",
   "execution_count": 253,
   "metadata": {
    "collapsed": true
   },
   "outputs": [],
   "source": [
    "# Twitter API Keys\n",
    "from config import (consumer_key, \n",
    "                    consumer_secret, \n",
    "                    access_token, \n",
    "                    access_token_secret)"
   ]
  },
  {
   "cell_type": "code",
   "execution_count": 254,
   "metadata": {
    "collapsed": true
   },
   "outputs": [],
   "source": [
    "# Setup Tweepy API Authentication\n",
    "auth = tweepy.OAuthHandler(consumer_key, consumer_secret)\n",
    "auth.set_access_token(access_token, access_token_secret)\n",
    "api = tweepy.API(auth, parser=tweepy.parsers.JSONParser())"
   ]
  },
  {
   "cell_type": "code",
   "execution_count": 255,
   "metadata": {
    "collapsed": true
   },
   "outputs": [],
   "source": [
    "# Target Search Terms\n",
    "target_user = ('@FoxNews', '@CBSNews', 'BBCNews', '@CNN', '@nytimesworld')"
   ]
  },
  {
   "cell_type": "code",
   "execution_count": 256,
   "metadata": {
    "collapsed": true
   },
   "outputs": [],
   "source": [
    "# Array to hold sentiments\n",
    "sentiments = []"
   ]
  },
  {
   "cell_type": "code",
   "execution_count": 257,
   "metadata": {
    "collapsed": true
   },
   "outputs": [],
   "source": [
    "# Convert tweet timestamps to datetime objects that can be manipulated by Python\n",
    "converted_timestamps = []"
   ]
  },
  {
   "cell_type": "code",
   "execution_count": 258,
   "metadata": {
    "collapsed": true
   },
   "outputs": [],
   "source": [
    "# Variables for holding sentiments\n",
    "compound_list = []"
   ]
  },
  {
   "cell_type": "code",
   "execution_count": 259,
   "metadata": {
    "collapsed": true
   },
   "outputs": [],
   "source": [
    "# Counter\n",
    "counter = 1"
   ]
  },
  {
   "cell_type": "code",
   "execution_count": 260,
   "metadata": {
    "collapsed": true
   },
   "outputs": [],
   "source": [
    "# Loop through all target users\n",
    "for target in target_user:\n",
    "    # Variable for holding the oldest tweet\n",
    "    oldest_tweet = None\n",
    "    # Variables for holding sentiments\n",
    "    compound_list = []\n",
    "    positive_list = []\n",
    "    neutral_list = []\n",
    "    negative_list = []\n",
    "    \n",
    "    \n",
    "    # Get all tweets from home feed\n",
    "    public_tweets = api.user_timeline(target, count=100, result_type=\"recent\", max_id=oldest_tweet)\n",
    "    # Loop through all tweets\n",
    "    for tweet in public_tweets:\n",
    "            \n",
    "        #Convert the raw tweet time to correct datetime stamp.\n",
    "        converted_time = datetime.strptime(tweet[\"created_at\"], \"%a %b %d %H:%M:%S %z %Y\")\n",
    "        # Run Vader Analysis on each tweet\n",
    "        results = analyzer.polarity_scores(tweet[\"text\"])\n",
    "        compound = results[\"compound\"]\n",
    "        pos = results[\"pos\"]\n",
    "        neu = results[\"neu\"]\n",
    "        neg = results[\"neg\"]\n",
    "    \n",
    "        # Add sentiments for each tweet into an array\n",
    "        sentiments.append({\"News Source\": target,\n",
    "                       \"Date/Time\": converted_time, \n",
    "                        \"Compound\": compound,\n",
    "                        \"Positive\": pos,\n",
    "                        \"Neutral\": neu,\n",
    "                        \"Negative\": neg,\n",
    "                        \"Tweet\": tweet[\"text\"],\n",
    "                        \"Tweets Ago\": counter})\n",
    "        # Add to counter \n",
    "        counter = counter + 1"
   ]
  },
  {
   "cell_type": "code",
   "execution_count": 261,
   "metadata": {},
   "outputs": [
    {
     "data": {
      "text/html": [
       "<div>\n",
       "<style>\n",
       "    .dataframe thead tr:only-child th {\n",
       "        text-align: right;\n",
       "    }\n",
       "\n",
       "    .dataframe thead th {\n",
       "        text-align: left;\n",
       "    }\n",
       "\n",
       "    .dataframe tbody tr th {\n",
       "        vertical-align: top;\n",
       "    }\n",
       "</style>\n",
       "<table border=\"1\" class=\"dataframe\">\n",
       "  <thead>\n",
       "    <tr style=\"text-align: right;\">\n",
       "      <th></th>\n",
       "      <th>Compound</th>\n",
       "      <th>Date/Time</th>\n",
       "      <th>Negative</th>\n",
       "      <th>Neutral</th>\n",
       "      <th>News Source</th>\n",
       "      <th>Positive</th>\n",
       "      <th>Tweet</th>\n",
       "      <th>Tweets Ago</th>\n",
       "    </tr>\n",
       "  </thead>\n",
       "  <tbody>\n",
       "    <tr>\n",
       "      <th>0</th>\n",
       "      <td>-0.3612</td>\n",
       "      <td>2017-12-03 03:23:02+00:00</td>\n",
       "      <td>0.185</td>\n",
       "      <td>0.815</td>\n",
       "      <td>@FoxNews</td>\n",
       "      <td>0.0</td>\n",
       "      <td>Trump compares Flynn to Hillary, asks 'rigged ...</td>\n",
       "      <td>1</td>\n",
       "    </tr>\n",
       "    <tr>\n",
       "      <th>1</th>\n",
       "      <td>-0.2960</td>\n",
       "      <td>2017-12-03 03:17:02+00:00</td>\n",
       "      <td>0.104</td>\n",
       "      <td>0.896</td>\n",
       "      <td>@FoxNews</td>\n",
       "      <td>0.0</td>\n",
       "      <td>On \"The Cost of Freedom,\" @RepDeSantis gave hi...</td>\n",
       "      <td>2</td>\n",
       "    </tr>\n",
       "    <tr>\n",
       "      <th>2</th>\n",
       "      <td>0.0000</td>\n",
       "      <td>2017-12-03 03:16:01+00:00</td>\n",
       "      <td>0.000</td>\n",
       "      <td>1.000</td>\n",
       "      <td>@FoxNews</td>\n",
       "      <td>0.0</td>\n",
       "      <td>On @ffweekend, @SheriffClarke gave his take on...</td>\n",
       "      <td>3</td>\n",
       "    </tr>\n",
       "    <tr>\n",
       "      <th>3</th>\n",
       "      <td>-0.4767</td>\n",
       "      <td>2017-12-03 03:14:08+00:00</td>\n",
       "      <td>0.147</td>\n",
       "      <td>0.853</td>\n",
       "      <td>@FoxNews</td>\n",
       "      <td>0.0</td>\n",
       "      <td>.@dbongino on Michael Flynn: \"It's only Republ...</td>\n",
       "      <td>4</td>\n",
       "    </tr>\n",
       "    <tr>\n",
       "      <th>4</th>\n",
       "      <td>-0.4215</td>\n",
       "      <td>2017-12-03 03:02:30+00:00</td>\n",
       "      <td>0.141</td>\n",
       "      <td>0.859</td>\n",
       "      <td>@FoxNews</td>\n",
       "      <td>0.0</td>\n",
       "      <td>.@ChristopherHahn on Michael Flynn guilty plea...</td>\n",
       "      <td>5</td>\n",
       "    </tr>\n",
       "  </tbody>\n",
       "</table>\n",
       "</div>"
      ],
      "text/plain": [
       "   Compound                 Date/Time  Negative  Neutral News Source  \\\n",
       "0   -0.3612 2017-12-03 03:23:02+00:00     0.185    0.815    @FoxNews   \n",
       "1   -0.2960 2017-12-03 03:17:02+00:00     0.104    0.896    @FoxNews   \n",
       "2    0.0000 2017-12-03 03:16:01+00:00     0.000    1.000    @FoxNews   \n",
       "3   -0.4767 2017-12-03 03:14:08+00:00     0.147    0.853    @FoxNews   \n",
       "4   -0.4215 2017-12-03 03:02:30+00:00     0.141    0.859    @FoxNews   \n",
       "\n",
       "   Positive                                              Tweet  Tweets Ago  \n",
       "0       0.0  Trump compares Flynn to Hillary, asks 'rigged ...           1  \n",
       "1       0.0  On \"The Cost of Freedom,\" @RepDeSantis gave hi...           2  \n",
       "2       0.0  On @ffweekend, @SheriffClarke gave his take on...           3  \n",
       "3       0.0  .@dbongino on Michael Flynn: \"It's only Republ...           4  \n",
       "4       0.0  .@ChristopherHahn on Michael Flynn guilty plea...           5  "
      ]
     },
     "execution_count": 261,
     "metadata": {},
     "output_type": "execute_result"
    }
   ],
   "source": [
    "# Convert sentiments to DataFrame\n",
    "sentiments_pd = pd.DataFrame.from_dict(sentiments)\n",
    "sentiments_pd.head()"
   ]
  },
  {
   "cell_type": "code",
   "execution_count": 262,
   "metadata": {},
   "outputs": [
    {
     "name": "stdout",
     "output_type": "stream",
     "text": [
      "<class 'pandas.core.frame.DataFrame'>\n",
      "RangeIndex: 500 entries, 0 to 499\n",
      "Data columns (total 8 columns):\n",
      "Compound       500 non-null float64\n",
      "Date/Time      500 non-null datetime64[ns, UTC]\n",
      "Negative       500 non-null float64\n",
      "Neutral        500 non-null float64\n",
      "News Source    500 non-null object\n",
      "Positive       500 non-null float64\n",
      "Tweet          500 non-null object\n",
      "Tweets Ago     500 non-null int64\n",
      "dtypes: datetime64[ns, UTC](1), float64(4), int64(1), object(2)\n",
      "memory usage: 31.3+ KB\n"
     ]
    }
   ],
   "source": [
    "sentiments_pd.info()"
   ]
  },
  {
   "cell_type": "code",
   "execution_count": 263,
   "metadata": {},
   "outputs": [
    {
     "data": {
      "text/plain": [
       "<matplotlib.collections.PathCollection at 0x29270355cf8>"
      ]
     },
     "execution_count": 263,
     "metadata": {},
     "output_type": "execute_result"
    }
   ],
   "source": [
    "# Build a scatter plot for each data type\n",
    "plt.scatter(sentiments_pd[\"Tweets Ago\"], \n",
    "            sentiments_pd[\"Compound\"],\n",
    "            edgecolor=\"black\", linewidths=1, marker=\"o\", \n",
    "            s=100, alpha=0.8)"
   ]
  },
  {
   "cell_type": "code",
   "execution_count": 264,
   "metadata": {},
   "outputs": [
    {
     "data": {
      "text/plain": [
       "(-1, 1)"
      ]
     },
     "execution_count": 264,
     "metadata": {},
     "output_type": "execute_result"
    }
   ],
   "source": [
    "# Incorporate the other graph properties\n",
    "plt.title(\"Sentiment Analysis of Media Tweets\")\n",
    "plt.ylabel(\"Tweet Polarity\")\n",
    "plt.xlabel(\"Tweets Ago\")\n",
    "plt.grid(True)\n",
    "plt.xlim([0, 100])\n",
    "plt.ylim([-1, 1])"
   ]
  },
  {
   "cell_type": "code",
   "execution_count": 265,
   "metadata": {},
   "outputs": [
    {
     "data": {
      "image/png": "[encoded data removed]",
      "text/plain": [
       "<matplotlib.figure.Figure at 0x2926f118ba8>"
      ]
     },
     "metadata": {},
     "output_type": "display_data"
    }
   ],
   "source": [
    "# Save the figure\n",
    "#plt.savefig(\"Sentiment_Analysis_of_Media_Tweets.png\")\n",
    "\n",
    "# Show plot\n",
    "plt.show()"
   ]
  },
  {
   "cell_type": "code",
   "execution_count": 266,
   "metadata": {},
   "outputs": [
    {
     "data": {
      "text/html": [
       "<div>\n",
       "<style>\n",
       "    .dataframe thead tr:only-child th {\n",
       "        text-align: right;\n",
       "    }\n",
       "\n",
       "    .dataframe thead th {\n",
       "        text-align: left;\n",
       "    }\n",
       "\n",
       "    .dataframe tbody tr th {\n",
       "        vertical-align: top;\n",
       "    }\n",
       "</style>\n",
       "<table border=\"1\" class=\"dataframe\">\n",
       "  <thead>\n",
       "    <tr style=\"text-align: right;\">\n",
       "      <th></th>\n",
       "      <th>News Source</th>\n",
       "      <th>Compound</th>\n",
       "    </tr>\n",
       "  </thead>\n",
       "  <tbody>\n",
       "    <tr>\n",
       "      <th>0</th>\n",
       "      <td>@CBSNews</td>\n",
       "      <td>-17.5436</td>\n",
       "    </tr>\n",
       "    <tr>\n",
       "      <th>1</th>\n",
       "      <td>@CNN</td>\n",
       "      <td>-9.5177</td>\n",
       "    </tr>\n",
       "    <tr>\n",
       "      <th>2</th>\n",
       "      <td>@FoxNews</td>\n",
       "      <td>2.7647</td>\n",
       "    </tr>\n",
       "    <tr>\n",
       "      <th>3</th>\n",
       "      <td>@nytimesworld</td>\n",
       "      <td>-16.8846</td>\n",
       "    </tr>\n",
       "    <tr>\n",
       "      <th>4</th>\n",
       "      <td>BBCNews</td>\n",
       "      <td>-6.4050</td>\n",
       "    </tr>\n",
       "  </tbody>\n",
       "</table>\n",
       "</div>"
      ],
      "text/plain": [
       "     News Source  Compound\n",
       "0       @CBSNews  -17.5436\n",
       "1           @CNN   -9.5177\n",
       "2       @FoxNews    2.7647\n",
       "3  @nytimesworld  -16.8846\n",
       "4        BBCNews   -6.4050"
      ]
     },
     "execution_count": 266,
     "metadata": {},
     "output_type": "execute_result"
    }
   ],
   "source": [
    "sentiments_source_grouped = sentiments_pd.groupby([\"News Source\"], as_index='False')\n",
    "sentiments_source_grouped_summary = sentiments_source_grouped[\"Compound\"].sum().reset_index('News Source')\n",
    "x_axis = np.arange(len(sentiments_source_grouped_summary[\"News Source\"]))\n",
    "\n",
    "# Tell matplotlib where we would like to place each of our x axis headers\n",
    "tick_locations = [value+0.4 for value in x_axis]\n",
    "plt.xticks(tick_locations, [\"CBS News\", \"CNN\", \"Fox News\", \"NY Times\", \"BBC News\"])\n",
    "sentiments_source_grouped_summary.head()"
   ]
  },
  {
   "cell_type": "code",
   "execution_count": 267,
   "metadata": {},
   "outputs": [
    {
     "data": {
      "text/plain": [
       "<Container object of 5 artists>"
      ]
     },
     "execution_count": 267,
     "metadata": {},
     "output_type": "execute_result"
    }
   ],
   "source": [
    "plt.bar(x_axis, sentiments_source_grouped_summary[\"Compound\"], color='r', alpha=0.5, align=\"edge\")"
   ]
  },
  {
   "cell_type": "code",
   "execution_count": 268,
   "metadata": {},
   "outputs": [
    {
     "data": {
      "text/plain": [
       "<matplotlib.text.Text at 0x2926e30ea20>"
      ]
     },
     "execution_count": 268,
     "metadata": {},
     "output_type": "execute_result"
    }
   ],
   "source": [
    "# Give our chart some labels and a tile\n",
    "plt.title(\"Aggregate Media Sentiment baed on Twitter\")\n",
    "plt.ylabel(\"Tweet Polarity\")"
   ]
  },
  {
   "cell_type": "code",
   "execution_count": 269,
   "metadata": {},
   "outputs": [
    {
     "data": {
      "image/png": "[encoded data removed]",
      "text/plain": [
       "<matplotlib.figure.Figure at 0x292703efb38>"
      ]
     },
     "metadata": {},
     "output_type": "display_data"
    }
   ],
   "source": [
    "plt.show()"
   ]
  }
 ],
 "metadata": {
  "kernelspec": {
   "display_name": "Python 3",
   "language": "python",
   "name": "python3"
  },
  "language_info": {
   "codemirror_mode": {
    "name": "ipython",
    "version": 3
   },
   "file_extension": ".py",
   "mimetype": "text/x-python",
   "name": "python",
   "nbconvert_exporter": "python",
   "pygments_lexer": "ipython3",
   "version": "3.6.2"
  }
 },
 "nbformat": 4,
 "nbformat_minor": 2
}
